{
 "cells": [
  {
   "cell_type": "code",
   "execution_count": 31,
   "metadata": {},
   "outputs": [
    {
     "name": "stdout",
     "output_type": "stream",
     "text": [
      "Enter what do you want to choose? Type  0 for rock , 1 for Paper or 2 for scissors\n",
      "0\n",
      "\n",
      "    _______\n",
      "---'   ____)\n",
      "      (_____)\n",
      "      (_____)\n",
      "      (____)\n",
      "---.__(___)\n",
      "\n",
      "computer chose :\n",
      "\n",
      "    _______\n",
      "---'   ____)\n",
      "      (_____)\n",
      "      (_____)\n",
      "      (____)\n",
      "---.__(___)\n",
      "\n",
      "it's a draw\n"
     ]
    }
   ],
   "source": [
    "import random\n",
    "rock = '''\n",
    "    _______\n",
    "---'   ____)\n",
    "      (_____)\n",
    "      (_____)\n",
    "      (____)\n",
    "---.__(___)\n",
    "'''\n",
    "\n",
    "paper = '''\n",
    "    _______\n",
    "---'   ____)____\n",
    "          ______)\n",
    "          _______)\n",
    "         _______)\n",
    "---.__________)\n",
    "'''\n",
    "\n",
    "scissors = '''\n",
    "    _______\n",
    "---'   ____)____\n",
    "          ______)\n",
    "       __________)\n",
    "      (____)\n",
    "---.__(___)\n",
    "'''\n",
    "game_images =[rock,paper,scissors]\n",
    "user_choice = int(input(\"Enter what do you want to choose? Type  0 for rock , 1 for Paper or 2 for scissors\\n\" ))\n",
    "\n",
    "if user_choice >= 3 or user_choice < 0:\n",
    "    print(\"you typed the invalid number, You lose Computer WIN\")\n",
    "else: \n",
    "    print(game_images[user_choice])\n",
    "\n",
    "    computer_choice=random.randint(0,2)\n",
    "    print(\"computer chose :\")\n",
    "    print(game_images[computer_choice]) \n",
    "    \n",
    "    if  user_choice ==0 and computer_choice ==2:      \n",
    "        print(\"YOU WIN!\")\n",
    "    elif computer_choice ==0 and user_choice ==2:\n",
    "        print(\"You Lose\")\n",
    "    elif computer_choice > user_choice:\n",
    "        print(\" You_lose the game\")\n",
    "    elif user_choice >computer_choice:\n",
    "        print(\"YOU WIN the Game comuter lose\")\n",
    "    elif  computer_choice == user_choice:\n",
    "        print(\"it's a draw\")\n",
    "\n",
    "\n"
   ]
  },
  {
   "cell_type": "code",
   "execution_count": null,
   "metadata": {},
   "outputs": [],
   "source": []
  },
  {
   "cell_type": "code",
   "execution_count": null,
   "metadata": {},
   "outputs": [],
   "source": []
  }
 ],
 "metadata": {
  "kernelspec": {
   "display_name": "Python 3",
   "language": "python",
   "name": "python3"
  },
  "language_info": {
   "codemirror_mode": {
    "name": "ipython",
    "version": 3
   },
   "file_extension": ".py",
   "mimetype": "text/x-python",
   "name": "python",
   "nbconvert_exporter": "python",
   "pygments_lexer": "ipython3",
   "version": "3.8.3"
  }
 },
 "nbformat": 4,
 "nbformat_minor": 4
}
